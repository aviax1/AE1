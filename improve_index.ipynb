{
  "nbformat": 4,
  "nbformat_minor": 0,
  "metadata": {
    "colab": {
      "name": "Copy of Copy of myproj.ipynb",
      "provenance": [],
      "collapsed_sections": [],
      "authorship_tag": "ABX9TyNC9Sa/5tmnrKwncio//oWD",
      "include_colab_link": true
    },
    "kernelspec": {
      "name": "python3",
      "display_name": "Python 3"
    }
  },
  "cells": [
    {
      "cell_type": "markdown",
      "metadata": {
        "id": "view-in-github",
        "colab_type": "text"
      },
      "source": [
        "<a href=\"https://colab.research.google.com/github/aviax1/AE1/blob/master/improve_index.ipynb\" target=\"_parent\"><img src=\"https://colab.research.google.com/assets/colab-badge.svg\" alt=\"Open In Colab\"/></a>"
      ]
    },
    {
      "cell_type": "code",
      "metadata": {
        "id": "txGJFvD0b_rx",
        "colab_type": "code",
        "colab": {}
      },
      "source": [
        "import wandb\n",
        "import torch.nn as nn\n",
        "hyperparameter_defaults = dict(\n",
        "    dropout = 0.5,\n",
        "    hd1 = 16,\n",
        "    lv1 = 32,\n",
        "    bt = 100,\n",
        "    learning_rate = 0.001,\n",
        "    epochs = 200,\n",
        ")\n",
        "wandb.init(config=hyperparameter_defaults, project=\"ae1\")\n"
      ],
      "execution_count": null,
      "outputs": []
    },
    {
      "cell_type": "code",
      "metadata": {
        "id": "ToHjuPoPYg2i",
        "colab_type": "code",
        "colab": {}
      },
      "source": [
        "!wandb agent aviax1/ae1/yjyslrpc"
      ],
      "execution_count": null,
      "outputs": []
    }
  ]
}