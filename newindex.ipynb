{
  "nbformat": 4,
  "nbformat_minor": 0,
  "metadata": {
    "colab": {
      "name": "Copy of Copy of myproj.ipynb",
      "provenance": [],
      "collapsed_sections": [],
      "authorship_tag": "ABX9TyOUSYLK9TBa3v9c7aIKAoIJ",
      "include_colab_link": true
    },
    "kernelspec": {
      "name": "python3",
      "display_name": "Python 3"
    }
  },
  "cells": [
    {
      "cell_type": "markdown",
      "metadata": {
        "id": "view-in-github",
        "colab_type": "text"
      },
      "source": [
        "<a href=\"https://colab.research.google.com/github/aviax1/AE1/blob/master/newindex.ipynb\" target=\"_parent\"><img src=\"https://colab.research.google.com/assets/colab-badge.svg\" alt=\"Open In Colab\"/></a>"
      ]
    },
    {
      "cell_type": "markdown",
      "metadata": {
        "id": "FtaGi-L_cSaq",
        "colab_type": "text"
      },
      "source": [
        "**dependencies**"
      ]
    },
    {
      "cell_type": "code",
      "metadata": {
        "id": "8RffrO5RiH_V",
        "colab_type": "code",
        "colab": {}
      },
      "source": [
        "!pip install wandb"
      ],
      "execution_count": null,
      "outputs": []
    },
    {
      "cell_type": "code",
      "metadata": {
        "id": "UIO3PVG_grNR",
        "colab_type": "code",
        "colab": {}
      },
      "source": [
        "import torch,wandb,os,warnings,csv\n",
        "import torch.nn as nn\n",
        "import torchvision.transforms as transforms\n",
        "from torch.autograd import Variable\n",
        "from tensorflow.keras.datasets import mnist\n",
        "from torch.utils.data import DataLoader, Dataset\n",
        "import matplotlib.pyplot as plt\n",
        "import numpy as np\n",
        "import pandas as pd"
      ],
      "execution_count": null,
      "outputs": []
    },
    {
      "cell_type": "markdown",
      "metadata": {
        "colab_type": "text",
        "id": "J759cYYvgp4G"
      },
      "source": [
        "**initial**"
      ]
    },
    {
      "cell_type": "code",
      "metadata": {
        "id": "txGJFvD0b_rx",
        "colab_type": "code",
        "colab": {}
      },
      "source": [
        "(xtrain,ytrain), (xtest,ytest) = mnist.load_data()\n",
        "num_epochs=1000        #\n",
        "batch_size = 64        #\n",
        "image_size=784         #\n",
        "hidden_size=256         #\n",
        "lv_size = 48           # Latent Variable \n",
        "learning_rate=1e-4     #\n",
        "cret = nn.MSELoss()    # criterion\n",
        "warnings.filterwarnings('ignore')"
      ],
      "execution_count": null,
      "outputs": []
    },
    {
      "cell_type": "markdown",
      "metadata": {
        "colab_type": "text",
        "id": "CyNraKighz1W"
      },
      "source": [
        "**build model**"
      ]
    },
    {
      "cell_type": "code",
      "metadata": {
        "id": "NUIqLQNnh3-D",
        "colab_type": "code",
        "colab": {}
      },
      "source": [
        "class autoencoder(nn.Module):\n",
        "    def __init__(self):\n",
        "        super(autoencoder, self).__init__()\n",
        "        self.encoder = nn.Sequential(\n",
        "            nn.Linear(image_size, hidden_size), \n",
        "            nn.ReLU(True), nn.Linear(hidden_size, hidden_size),\n",
        "            nn.ReLU(True), nn.Linear(hidden_size, hidden_size),\n",
        "            nn.ReLU(True), nn.Linear(hidden_size, hidden_size),\n",
        "             nn.ReLU(True), nn.Linear(hidden_size, lv_size))\n",
        "        self.decoder = nn.Sequential(\n",
        "            nn.Linear(lv_size, hidden_size),nn.ReLU(True),\n",
        "            nn.Linear(hidden_size, hidden_size),nn.ReLU(True),\n",
        "            nn.Linear(hidden_size, hidden_size),nn.ReLU(True),\n",
        "            nn.Linear(hidden_size, hidden_size),nn.ReLU(True),\n",
        "             nn.Linear(hidden_size, image_size), nn.Tanh())\n",
        "\n",
        "    def forward(self, x):\n",
        "        return self.decoder(self.encoder(x))"
      ],
      "execution_count": null,
      "outputs": []
    },
    {
      "cell_type": "markdown",
      "metadata": {
        "colab_type": "text",
        "id": "sgQmvLNFnEAs"
      },
      "source": [
        "**model setting**"
      ]
    },
    {
      "cell_type": "code",
      "metadata": {
        "id": "aaGfS3vTnZb_",
        "colab_type": "code",
        "colab": {}
      },
      "source": [
        "model = autoencoder()\n",
        "tmodel=autoencoder()\n",
        "device = 'cuda' if torch.cuda.is_available() else 'cpu'\n",
        "model.to(device)\n",
        "optimizer = torch.optim.Adam(model.parameters(), lr=learning_rate, weight_decay=1e-6)\n",
        "\n",
        "class DigitDataSet(Dataset):\n",
        "  def __init__(self, dataset):\n",
        "      self.dataset = dataset\n",
        "      self.transform = transforms.Compose([transforms.ToTensor(),transforms.Normalize([0.5], [0.5])])\n",
        "\n",
        "  def __len__(self):\n",
        "      return len(self.dataset)\n",
        "\n",
        "  def __getitem__(self, idx):\n",
        "      if torch.is_tensor(idx):\n",
        "          idx = idx.tolist()\n",
        "      return self.transform( self.dataset[idx,:,:])"
      ],
      "execution_count": null,
      "outputs": []
    },
    {
      "cell_type": "markdown",
      "metadata": {
        "colab_type": "text",
        "id": "WLnotTGWCoiu"
      },
      "source": [
        "**classsifcation by train models**"
      ]
    },
    {
      "cell_type": "code",
      "metadata": {
        "id": "650-wSQ1CtXw",
        "colab_type": "code",
        "colab": {}
      },
      "source": [
        "def model_name(digit):\n",
        "  return './ae_'+str(digit)+'.pth'\n",
        "\n",
        "def get_prediction(data=xtest):\n",
        "  nn=len(data)\n",
        "  dataloader = DataLoader(DigitDataSet(data), batch_size=nn,shuffle=0 , num_workers=4)\n",
        "  diff = np.zeros( (nn,10),dtype=np.float32 )\n",
        "  for i in range(10):\n",
        "    for data in dataloader:\n",
        "      input_imgs = data\n",
        "      imgs = Variable(input_imgs.view(input_imgs.size(0), -1))\n",
        "      tmodel.load_state_dict(torch.load(model_name(i)))\n",
        "      tmodel.eval()\n",
        "      output_imgs = tmodel(imgs)\n",
        "      for i2 in range(len( output_imgs[:,0])):\n",
        "        im_pred=output_imgs.detach().numpy()[i2,:]\n",
        "        im_org=imgs.numpy()[i2,:]\n",
        "        difmat=np.abs(im_pred.reshape(28,28)-im_org.reshape(28,28))\n",
        "        diff[i2,i]=np.sum( np.sum( difmat ))\n",
        "  return np.argmin(diff, axis=1)\n",
        "\n",
        "\n",
        "def testmodel(): \n",
        "  nn=len(ytest)\n",
        "  min_index =get_prediction()\n",
        "  seccess =  min_index == ytest\n",
        "  counts, bins = np.histogram(ytest[ min_index != ytest ])\n",
        "  plt.hist(bins[:-1], bins, weights=counts)\n",
        "  plt.title(\"error by digit\")\n",
        "  plt.show()\n",
        "  accurcy =int(10000*np.sum(seccess))/(nn*100)\n",
        "  error_rate = int(10000*np.sum(min_index != ytest))/(nn*100)\n",
        "  print(str(accurcy) + \"% accuracy or \"+str(error_rate)+\"% error rate\")\n",
        "  return counts, bins ,len(ytest[min_index != ytest]) , len(ytest)"
      ],
      "execution_count": null,
      "outputs": []
    },
    {
      "cell_type": "markdown",
      "metadata": {
        "id": "nVPozo4nFAaJ",
        "colab_type": "text"
      },
      "source": [
        "**train method**"
      ]
    },
    {
      "cell_type": "code",
      "metadata": {
        "id": "roL_TvrVC7g9",
        "colab_type": "code",
        "colab": {}
      },
      "source": [
        "def save_model(digit,model):\n",
        "  mn=model_name(digit)\n",
        "  torch.save(model.state_dict(),mn )\n",
        "  wandb.save(mn)\n",
        "  print(\"save model \"+ mn)\n",
        "\n",
        "def load_model_ifexist(digit,model):\n",
        "  mn=model_name(digit)\n",
        "  if os.path.isfile(mn):\n",
        "    model.load_state_dict(torch.load(mn))\n",
        "    model.eval()\n",
        "  return model\n",
        "\n",
        "def train_by_digit(by_digit,model,ne=num_epochs,opt=optimizer):\n",
        "  model=load_model_ifexist( by_digit,model)\n",
        "  wandb.init()\n",
        "  print(\"*****\\nstart traning Model for digit \" +str(by_digit) +\"\\n\")\n",
        "  dataloader = DataLoader(DigitDataSet(xtrain[ytrain==by_digit]), batch_size=batch_size,shuffle=True, num_workers=6)\n",
        "  for epoch in range(ne):\n",
        "    run=  epoch%25==0\n",
        "    run2= epoch%125==0 and epoch >0\n",
        "    for data in dataloader:\n",
        "      imgs = Variable(data.view(data.size(0), -1))\n",
        "      output_imgs = model(imgs)\n",
        "      loss = cret(output_imgs, imgs)\n",
        "      opt.zero_grad()\n",
        "      loss.backward()\n",
        "      opt.step()\n",
        "      if run:\n",
        "        run=0\n",
        "        im=data[0,0,:,:].reshape(28,28)\n",
        "        pred=model(imgs).detach().numpy()[0,:].reshape(28,28)\n",
        "        wandb.log({\"img\": [wandb.Image(pred, caption=\"preidciton\"),wandb.Image(im, caption=\"original\")]})\n",
        "      if run2:\n",
        "        run2=0\n",
        "        save_model(by_digit,model)\n",
        "        testmodel()\n",
        "        \n",
        "    print('epoch [{}/{}], loss:{:.4f}' .format(epoch + 1, ne, loss.data))\n",
        "    wandb.log({\"loss\": loss.data})\n",
        "  save_model(by_digit,model)\n",
        "  print(\"\\nfinish traning Model Number \" +str(by_digit) +\"\\n*****\\n\")"
      ],
      "execution_count": null,
      "outputs": []
    },
    {
      "cell_type": "markdown",
      "metadata": {
        "id": "0ueJ9JLrWxQo",
        "colab_type": "text"
      },
      "source": [
        "**train new model**"
      ]
    },
    {
      "cell_type": "code",
      "metadata": {
        "id": "1XlAu_FKWy9u",
        "colab_type": "code",
        "colab": {
          "base_uri": "https://localhost:8080/",
          "height": 1000
        },
        "outputId": "cd1f38eb-7b24-45fb-837e-9267ef747944"
      },
      "source": [
        "for by_digit in range(10):\n",
        "  train_by_digit(by_digit,model,120)"
      ],
      "execution_count": 22,
      "outputs": [
        {
          "output_type": "display_data",
          "data": {
            "text/html": [
              "\n",
              "                Logging results to <a href=\"https://wandb.com\" target=\"_blank\">Weights & Biases</a> <a href=\"https://docs.wandb.com/integrations/jupyter.html\" target=\"_blank\">(Documentation)</a>.<br/>\n",
              "                Project page: <a href=\"https://app.wandb.ai/aviax1/uncategorized\" target=\"_blank\">https://app.wandb.ai/aviax1/uncategorized</a><br/>\n",
              "                Run page: <a href=\"https://app.wandb.ai/aviax1/uncategorized/runs/369ri4mj\" target=\"_blank\">https://app.wandb.ai/aviax1/uncategorized/runs/369ri4mj</a><br/>\n",
              "            "
            ],
            "text/plain": [
              "<IPython.core.display.HTML object>"
            ]
          },
          "metadata": {
            "tags": []
          }
        },
        {
          "output_type": "stream",
          "text": [
            "*****\n",
            "start traning Model for digit 0\n",
            "\n",
            "epoch [1/33], loss:0.2540\n",
            "epoch [2/33], loss:0.2346\n",
            "epoch [3/33], loss:0.2498\n",
            "epoch [4/33], loss:0.2494\n",
            "epoch [5/33], loss:0.2427\n",
            "epoch [6/33], loss:0.1962\n",
            "epoch [7/33], loss:0.1874\n",
            "epoch [8/33], loss:0.1951\n",
            "epoch [9/33], loss:0.1958\n",
            "epoch [10/33], loss:0.1897\n",
            "epoch [11/33], loss:0.1944\n",
            "epoch [12/33], loss:0.1762\n",
            "epoch [13/33], loss:0.1581\n",
            "epoch [14/33], loss:0.1594\n",
            "epoch [15/33], loss:0.1626\n",
            "epoch [16/33], loss:0.1446\n",
            "epoch [17/33], loss:0.1418\n",
            "epoch [18/33], loss:0.1449\n",
            "epoch [19/33], loss:0.1406\n",
            "epoch [20/33], loss:0.1246\n",
            "epoch [21/33], loss:0.1211\n",
            "epoch [22/33], loss:0.1230\n",
            "epoch [23/33], loss:0.1256\n",
            "epoch [24/33], loss:0.1252\n",
            "epoch [25/33], loss:0.1281\n",
            "epoch [26/33], loss:0.1179\n",
            "epoch [27/33], loss:0.1205\n",
            "epoch [28/33], loss:0.1134\n",
            "epoch [29/33], loss:0.1204\n",
            "epoch [30/33], loss:0.1252\n",
            "epoch [31/33], loss:0.1160\n",
            "epoch [32/33], loss:0.1064\n",
            "epoch [33/33], loss:0.1082\n",
            "save model ./ae_0.pth\n",
            "\n",
            "finish traning Model Number 0\n",
            "*****\n",
            "\n"
          ],
          "name": "stdout"
        },
        {
          "output_type": "display_data",
          "data": {
            "text/html": [
              "\n",
              "                Logging results to <a href=\"https://wandb.com\" target=\"_blank\">Weights & Biases</a> <a href=\"https://docs.wandb.com/integrations/jupyter.html\" target=\"_blank\">(Documentation)</a>.<br/>\n",
              "                Project page: <a href=\"https://app.wandb.ai/aviax1/uncategorized\" target=\"_blank\">https://app.wandb.ai/aviax1/uncategorized</a><br/>\n",
              "                Run page: <a href=\"https://app.wandb.ai/aviax1/uncategorized/runs/18652qm2\" target=\"_blank\">https://app.wandb.ai/aviax1/uncategorized/runs/18652qm2</a><br/>\n",
              "            "
            ],
            "text/plain": [
              "<IPython.core.display.HTML object>"
            ]
          },
          "metadata": {
            "tags": []
          }
        },
        {
          "output_type": "stream",
          "text": [
            "*****\n",
            "start traning Model for digit 1\n",
            "\n",
            "epoch [1/33], loss:0.0437\n",
            "epoch [2/33], loss:0.0490\n",
            "epoch [3/33], loss:0.0377\n",
            "epoch [4/33], loss:0.0299\n",
            "epoch [5/33], loss:0.0362\n",
            "epoch [6/33], loss:0.0331\n",
            "epoch [7/33], loss:0.0330\n",
            "epoch [8/33], loss:0.0337\n",
            "epoch [9/33], loss:0.0404\n",
            "epoch [10/33], loss:0.0219\n",
            "epoch [11/33], loss:0.0246\n",
            "epoch [12/33], loss:0.0256\n",
            "epoch [13/33], loss:0.0286\n",
            "epoch [14/33], loss:0.0433\n",
            "epoch [15/33], loss:0.0219\n",
            "epoch [16/33], loss:0.0204\n",
            "epoch [17/33], loss:0.0270\n",
            "epoch [18/33], loss:0.0210\n",
            "epoch [19/33], loss:0.0256\n",
            "epoch [20/33], loss:0.0253\n",
            "epoch [21/33], loss:0.0165\n",
            "epoch [22/33], loss:0.0256\n",
            "epoch [23/33], loss:0.0302\n",
            "epoch [24/33], loss:0.0174\n",
            "epoch [25/33], loss:0.0178\n",
            "epoch [26/33], loss:0.0211\n",
            "epoch [27/33], loss:0.0149\n",
            "epoch [28/33], loss:0.0230\n",
            "epoch [29/33], loss:0.0189\n",
            "epoch [30/33], loss:0.0241\n",
            "epoch [31/33], loss:0.0197\n",
            "epoch [32/33], loss:0.0158\n",
            "epoch [33/33], loss:0.0216\n",
            "save model ./ae_1.pth\n",
            "\n",
            "finish traning Model Number 1\n",
            "*****\n",
            "\n"
          ],
          "name": "stdout"
        },
        {
          "output_type": "display_data",
          "data": {
            "text/html": [
              "\n",
              "                Logging results to <a href=\"https://wandb.com\" target=\"_blank\">Weights & Biases</a> <a href=\"https://docs.wandb.com/integrations/jupyter.html\" target=\"_blank\">(Documentation)</a>.<br/>\n",
              "                Project page: <a href=\"https://app.wandb.ai/aviax1/uncategorized\" target=\"_blank\">https://app.wandb.ai/aviax1/uncategorized</a><br/>\n",
              "                Run page: <a href=\"https://app.wandb.ai/aviax1/uncategorized/runs/3v8y97tx\" target=\"_blank\">https://app.wandb.ai/aviax1/uncategorized/runs/3v8y97tx</a><br/>\n",
              "            "
            ],
            "text/plain": [
              "<IPython.core.display.HTML object>"
            ]
          },
          "metadata": {
            "tags": []
          }
        },
        {
          "output_type": "stream",
          "text": [
            "*****\n",
            "start traning Model for digit 2\n",
            "\n",
            "epoch [1/33], loss:0.1812\n",
            "epoch [2/33], loss:0.1931\n",
            "epoch [3/33], loss:0.1456\n",
            "epoch [4/33], loss:0.1403\n",
            "epoch [5/33], loss:0.1515\n",
            "epoch [6/33], loss:0.1435\n",
            "epoch [7/33], loss:0.1132\n",
            "epoch [8/33], loss:0.1422\n",
            "epoch [9/33], loss:0.1558\n",
            "epoch [10/33], loss:0.1466\n",
            "epoch [11/33], loss:0.1124\n",
            "epoch [12/33], loss:0.1199\n",
            "epoch [13/33], loss:0.1273\n",
            "epoch [14/33], loss:0.1652\n",
            "epoch [15/33], loss:0.1336\n",
            "epoch [16/33], loss:0.1339\n",
            "epoch [17/33], loss:0.1143\n",
            "epoch [18/33], loss:0.1248\n",
            "epoch [19/33], loss:0.0909\n",
            "epoch [20/33], loss:0.1213\n",
            "epoch [21/33], loss:0.0770\n",
            "epoch [22/33], loss:0.1469\n",
            "epoch [23/33], loss:0.1122\n",
            "epoch [24/33], loss:0.0824\n",
            "epoch [25/33], loss:0.0943\n",
            "epoch [26/33], loss:0.0861\n",
            "epoch [27/33], loss:0.1027\n",
            "epoch [28/33], loss:0.1030\n",
            "epoch [29/33], loss:0.1062\n",
            "epoch [30/33], loss:0.0858\n",
            "epoch [31/33], loss:0.1094\n",
            "epoch [32/33], loss:0.1117\n",
            "epoch [33/33], loss:0.1184\n",
            "save model ./ae_2.pth\n",
            "\n",
            "finish traning Model Number 2\n",
            "*****\n",
            "\n"
          ],
          "name": "stdout"
        },
        {
          "output_type": "display_data",
          "data": {
            "text/html": [
              "\n",
              "                Logging results to <a href=\"https://wandb.com\" target=\"_blank\">Weights & Biases</a> <a href=\"https://docs.wandb.com/integrations/jupyter.html\" target=\"_blank\">(Documentation)</a>.<br/>\n",
              "                Project page: <a href=\"https://app.wandb.ai/aviax1/uncategorized\" target=\"_blank\">https://app.wandb.ai/aviax1/uncategorized</a><br/>\n",
              "                Run page: <a href=\"https://app.wandb.ai/aviax1/uncategorized/runs/wh4qzos3\" target=\"_blank\">https://app.wandb.ai/aviax1/uncategorized/runs/wh4qzos3</a><br/>\n",
              "            "
            ],
            "text/plain": [
              "<IPython.core.display.HTML object>"
            ]
          },
          "metadata": {
            "tags": []
          }
        },
        {
          "output_type": "stream",
          "text": [
            "*****\n",
            "start traning Model for digit 3\n",
            "\n",
            "epoch [1/33], loss:0.1290\n",
            "epoch [2/33], loss:0.1266\n",
            "epoch [3/33], loss:0.1069\n",
            "epoch [4/33], loss:0.1059\n",
            "epoch [5/33], loss:0.1065\n",
            "epoch [6/33], loss:0.1000\n",
            "epoch [7/33], loss:0.1050\n",
            "epoch [8/33], loss:0.1082\n",
            "epoch [9/33], loss:0.0913\n",
            "epoch [10/33], loss:0.1026\n",
            "epoch [11/33], loss:0.0861\n",
            "epoch [12/33], loss:0.0880\n",
            "epoch [13/33], loss:0.0994\n",
            "epoch [14/33], loss:0.0957\n",
            "epoch [15/33], loss:0.0870\n",
            "epoch [16/33], loss:0.0824\n",
            "epoch [17/33], loss:0.0892\n",
            "epoch [18/33], loss:0.0887\n",
            "epoch [19/33], loss:0.0857\n",
            "epoch [20/33], loss:0.0922\n",
            "epoch [21/33], loss:0.0878\n",
            "epoch [22/33], loss:0.0803\n",
            "epoch [23/33], loss:0.0833\n",
            "epoch [24/33], loss:0.0794\n",
            "epoch [25/33], loss:0.0840\n",
            "epoch [26/33], loss:0.0879\n",
            "epoch [27/33], loss:0.0828\n",
            "epoch [28/33], loss:0.0833\n",
            "epoch [29/33], loss:0.0797\n",
            "epoch [30/33], loss:0.0788\n",
            "epoch [31/33], loss:0.0903\n",
            "epoch [32/33], loss:0.0730\n",
            "epoch [33/33], loss:0.0756\n",
            "save model ./ae_3.pth\n",
            "\n",
            "finish traning Model Number 3\n",
            "*****\n",
            "\n"
          ],
          "name": "stdout"
        },
        {
          "output_type": "display_data",
          "data": {
            "text/html": [
              "\n",
              "                Logging results to <a href=\"https://wandb.com\" target=\"_blank\">Weights & Biases</a> <a href=\"https://docs.wandb.com/integrations/jupyter.html\" target=\"_blank\">(Documentation)</a>.<br/>\n",
              "                Project page: <a href=\"https://app.wandb.ai/aviax1/uncategorized\" target=\"_blank\">https://app.wandb.ai/aviax1/uncategorized</a><br/>\n",
              "                Run page: <a href=\"https://app.wandb.ai/aviax1/uncategorized/runs/fquuenep\" target=\"_blank\">https://app.wandb.ai/aviax1/uncategorized/runs/fquuenep</a><br/>\n",
              "            "
            ],
            "text/plain": [
              "<IPython.core.display.HTML object>"
            ]
          },
          "metadata": {
            "tags": []
          }
        },
        {
          "output_type": "stream",
          "text": [
            "*****\n",
            "start traning Model for digit 4\n",
            "\n",
            "epoch [1/33], loss:0.1300\n",
            "epoch [2/33], loss:0.1233\n",
            "epoch [3/33], loss:0.1062\n",
            "epoch [4/33], loss:0.0752\n",
            "epoch [5/33], loss:0.0818\n",
            "epoch [6/33], loss:0.0855\n",
            "epoch [7/33], loss:0.0870\n",
            "epoch [8/33], loss:0.0798\n",
            "epoch [9/33], loss:0.0648\n",
            "epoch [10/33], loss:0.0869\n",
            "epoch [11/33], loss:0.0710\n",
            "epoch [12/33], loss:0.0725\n",
            "epoch [13/33], loss:0.0606\n",
            "epoch [14/33], loss:0.0620\n",
            "epoch [15/33], loss:0.0730\n",
            "epoch [16/33], loss:0.0654\n",
            "epoch [17/33], loss:0.0619\n",
            "epoch [18/33], loss:0.0595\n",
            "epoch [19/33], loss:0.0780\n",
            "epoch [20/33], loss:0.0805\n",
            "epoch [21/33], loss:0.0510\n",
            "epoch [22/33], loss:0.0565\n",
            "epoch [23/33], loss:0.0636\n",
            "epoch [24/33], loss:0.0844\n",
            "epoch [25/33], loss:0.0631\n",
            "epoch [26/33], loss:0.0586\n",
            "epoch [27/33], loss:0.0665\n",
            "epoch [28/33], loss:0.0643\n",
            "epoch [29/33], loss:0.0608\n",
            "epoch [30/33], loss:0.0637\n",
            "epoch [31/33], loss:0.0538\n",
            "epoch [32/33], loss:0.0661\n",
            "epoch [33/33], loss:0.0507\n",
            "save model ./ae_4.pth\n",
            "\n",
            "finish traning Model Number 4\n",
            "*****\n",
            "\n"
          ],
          "name": "stdout"
        },
        {
          "output_type": "display_data",
          "data": {
            "text/html": [
              "\n",
              "                Logging results to <a href=\"https://wandb.com\" target=\"_blank\">Weights & Biases</a> <a href=\"https://docs.wandb.com/integrations/jupyter.html\" target=\"_blank\">(Documentation)</a>.<br/>\n",
              "                Project page: <a href=\"https://app.wandb.ai/aviax1/uncategorized\" target=\"_blank\">https://app.wandb.ai/aviax1/uncategorized</a><br/>\n",
              "                Run page: <a href=\"https://app.wandb.ai/aviax1/uncategorized/runs/iy6w2n7h\" target=\"_blank\">https://app.wandb.ai/aviax1/uncategorized/runs/iy6w2n7h</a><br/>\n",
              "            "
            ],
            "text/plain": [
              "<IPython.core.display.HTML object>"
            ]
          },
          "metadata": {
            "tags": []
          }
        },
        {
          "output_type": "stream",
          "text": [
            "*****\n",
            "start traning Model for digit 5\n",
            "\n",
            "epoch [1/33], loss:0.1247\n",
            "epoch [2/33], loss:0.1182\n",
            "epoch [3/33], loss:0.1122\n",
            "epoch [4/33], loss:0.1030\n",
            "epoch [5/33], loss:0.0846\n",
            "epoch [6/33], loss:0.0900\n",
            "epoch [7/33], loss:0.0956\n",
            "epoch [8/33], loss:0.0824\n",
            "epoch [9/33], loss:0.0910\n",
            "epoch [10/33], loss:0.0822\n",
            "epoch [11/33], loss:0.0823\n",
            "epoch [12/33], loss:0.0848\n",
            "epoch [13/33], loss:0.0814\n",
            "epoch [14/33], loss:0.0776\n",
            "epoch [15/33], loss:0.0805\n",
            "epoch [16/33], loss:0.0826\n",
            "epoch [17/33], loss:0.0686\n",
            "epoch [18/33], loss:0.0713\n",
            "epoch [19/33], loss:0.0862\n",
            "epoch [20/33], loss:0.0679\n",
            "epoch [21/33], loss:0.0737\n",
            "epoch [22/33], loss:0.0737\n",
            "epoch [23/33], loss:0.0688\n",
            "epoch [24/33], loss:0.0746\n",
            "epoch [25/33], loss:0.0745\n",
            "epoch [26/33], loss:0.0661\n",
            "epoch [27/33], loss:0.0639\n",
            "epoch [28/33], loss:0.0732\n",
            "epoch [29/33], loss:0.0694\n",
            "epoch [30/33], loss:0.0682\n",
            "epoch [31/33], loss:0.0689\n",
            "epoch [32/33], loss:0.0766\n",
            "epoch [33/33], loss:0.0641\n",
            "save model ./ae_5.pth\n",
            "\n",
            "finish traning Model Number 5\n",
            "*****\n",
            "\n"
          ],
          "name": "stdout"
        },
        {
          "output_type": "display_data",
          "data": {
            "text/html": [
              "\n",
              "                Logging results to <a href=\"https://wandb.com\" target=\"_blank\">Weights & Biases</a> <a href=\"https://docs.wandb.com/integrations/jupyter.html\" target=\"_blank\">(Documentation)</a>.<br/>\n",
              "                Project page: <a href=\"https://app.wandb.ai/aviax1/uncategorized\" target=\"_blank\">https://app.wandb.ai/aviax1/uncategorized</a><br/>\n",
              "                Run page: <a href=\"https://app.wandb.ai/aviax1/uncategorized/runs/36k0vc00\" target=\"_blank\">https://app.wandb.ai/aviax1/uncategorized/runs/36k0vc00</a><br/>\n",
              "            "
            ],
            "text/plain": [
              "<IPython.core.display.HTML object>"
            ]
          },
          "metadata": {
            "tags": []
          }
        },
        {
          "output_type": "stream",
          "text": [
            "*****\n",
            "start traning Model for digit 6\n",
            "\n",
            "epoch [1/33], loss:0.0827\n",
            "epoch [2/33], loss:0.0725\n",
            "epoch [3/33], loss:0.0605\n",
            "epoch [4/33], loss:0.0568\n",
            "epoch [5/33], loss:0.0701\n",
            "epoch [6/33], loss:0.0583\n",
            "epoch [7/33], loss:0.0617\n",
            "epoch [8/33], loss:0.0572\n",
            "epoch [9/33], loss:0.0552\n",
            "epoch [10/33], loss:0.0537\n",
            "epoch [11/33], loss:0.0513\n",
            "epoch [12/33], loss:0.0569\n",
            "epoch [13/33], loss:0.0519\n",
            "epoch [14/33], loss:0.0506\n",
            "epoch [15/33], loss:0.0550\n",
            "epoch [16/33], loss:0.0497\n",
            "epoch [17/33], loss:0.0515\n",
            "epoch [18/33], loss:0.0526\n",
            "epoch [19/33], loss:0.0479\n",
            "epoch [20/33], loss:0.0504\n",
            "epoch [21/33], loss:0.0443\n",
            "epoch [22/33], loss:0.0552\n",
            "epoch [23/33], loss:0.0503\n",
            "epoch [24/33], loss:0.0609\n",
            "epoch [25/33], loss:0.0441\n",
            "epoch [26/33], loss:0.0476\n",
            "epoch [27/33], loss:0.0549\n",
            "epoch [28/33], loss:0.0490\n",
            "epoch [29/33], loss:0.0480\n",
            "epoch [30/33], loss:0.0493\n",
            "epoch [31/33], loss:0.0501\n",
            "epoch [32/33], loss:0.0410\n",
            "epoch [33/33], loss:0.0440\n",
            "save model ./ae_6.pth\n",
            "\n",
            "finish traning Model Number 6\n",
            "*****\n",
            "\n"
          ],
          "name": "stdout"
        },
        {
          "output_type": "display_data",
          "data": {
            "text/html": [
              "\n",
              "                Logging results to <a href=\"https://wandb.com\" target=\"_blank\">Weights & Biases</a> <a href=\"https://docs.wandb.com/integrations/jupyter.html\" target=\"_blank\">(Documentation)</a>.<br/>\n",
              "                Project page: <a href=\"https://app.wandb.ai/aviax1/uncategorized\" target=\"_blank\">https://app.wandb.ai/aviax1/uncategorized</a><br/>\n",
              "                Run page: <a href=\"https://app.wandb.ai/aviax1/uncategorized/runs/3sndr1if\" target=\"_blank\">https://app.wandb.ai/aviax1/uncategorized/runs/3sndr1if</a><br/>\n",
              "            "
            ],
            "text/plain": [
              "<IPython.core.display.HTML object>"
            ]
          },
          "metadata": {
            "tags": []
          }
        },
        {
          "output_type": "stream",
          "text": [
            "*****\n",
            "start traning Model for digit 7\n",
            "\n",
            "epoch [1/33], loss:0.0849\n",
            "epoch [2/33], loss:0.0727\n",
            "epoch [3/33], loss:0.0638\n",
            "epoch [4/33], loss:0.0648\n",
            "epoch [5/33], loss:0.0571\n",
            "epoch [6/33], loss:0.0540\n",
            "epoch [7/33], loss:0.0555\n",
            "epoch [8/33], loss:0.0487\n",
            "epoch [9/33], loss:0.0519\n",
            "epoch [10/33], loss:0.0448\n",
            "epoch [11/33], loss:0.0434\n",
            "epoch [12/33], loss:0.0398\n",
            "epoch [13/33], loss:0.0434\n",
            "epoch [14/33], loss:0.0368\n",
            "epoch [15/33], loss:0.0420\n",
            "epoch [16/33], loss:0.0480\n",
            "epoch [17/33], loss:0.0365\n",
            "epoch [18/33], loss:0.0412\n",
            "epoch [19/33], loss:0.0433\n",
            "epoch [20/33], loss:0.0330\n",
            "epoch [21/33], loss:0.0401\n",
            "epoch [22/33], loss:0.0447\n",
            "epoch [23/33], loss:0.0400\n",
            "epoch [24/33], loss:0.0367\n",
            "epoch [25/33], loss:0.0367\n",
            "epoch [26/33], loss:0.0401\n",
            "epoch [27/33], loss:0.0426\n",
            "epoch [28/33], loss:0.0409\n",
            "epoch [29/33], loss:0.0422\n",
            "epoch [30/33], loss:0.0398\n",
            "epoch [31/33], loss:0.0381\n",
            "epoch [32/33], loss:0.0306\n",
            "epoch [33/33], loss:0.0371\n",
            "save model ./ae_7.pth\n",
            "\n",
            "finish traning Model Number 7\n",
            "*****\n",
            "\n"
          ],
          "name": "stdout"
        },
        {
          "output_type": "display_data",
          "data": {
            "text/html": [
              "\n",
              "                Logging results to <a href=\"https://wandb.com\" target=\"_blank\">Weights & Biases</a> <a href=\"https://docs.wandb.com/integrations/jupyter.html\" target=\"_blank\">(Documentation)</a>.<br/>\n",
              "                Project page: <a href=\"https://app.wandb.ai/aviax1/uncategorized\" target=\"_blank\">https://app.wandb.ai/aviax1/uncategorized</a><br/>\n",
              "                Run page: <a href=\"https://app.wandb.ai/aviax1/uncategorized/runs/1i0am14v\" target=\"_blank\">https://app.wandb.ai/aviax1/uncategorized/runs/1i0am14v</a><br/>\n",
              "            "
            ],
            "text/plain": [
              "<IPython.core.display.HTML object>"
            ]
          },
          "metadata": {
            "tags": []
          }
        },
        {
          "output_type": "stream",
          "text": [
            "*****\n",
            "start traning Model for digit 8\n",
            "\n",
            "epoch [1/33], loss:0.1080\n",
            "epoch [2/33], loss:0.1081\n",
            "epoch [3/33], loss:0.0959\n",
            "epoch [4/33], loss:0.1052\n",
            "epoch [5/33], loss:0.0935\n",
            "epoch [6/33], loss:0.0848\n",
            "epoch [7/33], loss:0.0990\n",
            "epoch [8/33], loss:0.0925\n",
            "epoch [9/33], loss:0.0808\n",
            "epoch [10/33], loss:0.0818\n",
            "epoch [11/33], loss:0.0828\n",
            "epoch [12/33], loss:0.0836\n",
            "epoch [13/33], loss:0.0868\n",
            "epoch [14/33], loss:0.0829\n",
            "epoch [15/33], loss:0.0789\n",
            "epoch [16/33], loss:0.0696\n",
            "epoch [17/33], loss:0.0788\n",
            "epoch [18/33], loss:0.0903\n",
            "epoch [19/33], loss:0.0669\n",
            "epoch [20/33], loss:0.0653\n",
            "epoch [21/33], loss:0.0699\n",
            "epoch [22/33], loss:0.0725\n",
            "epoch [23/33], loss:0.0722\n",
            "epoch [24/33], loss:0.0758\n",
            "epoch [25/33], loss:0.0680\n",
            "epoch [26/33], loss:0.0756\n",
            "epoch [27/33], loss:0.0781\n",
            "epoch [28/33], loss:0.0771\n",
            "epoch [29/33], loss:0.0687\n",
            "epoch [30/33], loss:0.0759\n",
            "epoch [31/33], loss:0.0735\n",
            "epoch [32/33], loss:0.0718\n",
            "epoch [33/33], loss:0.0849\n",
            "save model ./ae_8.pth\n",
            "\n",
            "finish traning Model Number 8\n",
            "*****\n",
            "\n"
          ],
          "name": "stdout"
        },
        {
          "output_type": "display_data",
          "data": {
            "text/html": [
              "\n",
              "                Logging results to <a href=\"https://wandb.com\" target=\"_blank\">Weights & Biases</a> <a href=\"https://docs.wandb.com/integrations/jupyter.html\" target=\"_blank\">(Documentation)</a>.<br/>\n",
              "                Project page: <a href=\"https://app.wandb.ai/aviax1/uncategorized\" target=\"_blank\">https://app.wandb.ai/aviax1/uncategorized</a><br/>\n",
              "                Run page: <a href=\"https://app.wandb.ai/aviax1/uncategorized/runs/1mwy462g\" target=\"_blank\">https://app.wandb.ai/aviax1/uncategorized/runs/1mwy462g</a><br/>\n",
              "            "
            ],
            "text/plain": [
              "<IPython.core.display.HTML object>"
            ]
          },
          "metadata": {
            "tags": []
          }
        },
        {
          "output_type": "stream",
          "text": [
            "*****\n",
            "start traning Model for digit 9\n",
            "\n",
            "epoch [1/33], loss:0.0631\n",
            "epoch [2/33], loss:0.0604\n",
            "epoch [3/33], loss:0.0552\n",
            "epoch [4/33], loss:0.0481\n",
            "epoch [5/33], loss:0.0464\n",
            "epoch [6/33], loss:0.0472\n",
            "epoch [7/33], loss:0.0439\n",
            "epoch [8/33], loss:0.0477\n",
            "epoch [9/33], loss:0.0356\n",
            "epoch [10/33], loss:0.0423\n",
            "epoch [11/33], loss:0.0468\n",
            "epoch [12/33], loss:0.0426\n",
            "epoch [13/33], loss:0.0481\n",
            "epoch [14/33], loss:0.0387\n",
            "epoch [15/33], loss:0.0416\n",
            "epoch [16/33], loss:0.0345\n",
            "epoch [17/33], loss:0.0370\n",
            "epoch [18/33], loss:0.0394\n",
            "epoch [19/33], loss:0.0389\n",
            "epoch [20/33], loss:0.0359\n",
            "epoch [21/33], loss:0.0401\n",
            "epoch [22/33], loss:0.0407\n",
            "epoch [23/33], loss:0.0358\n",
            "epoch [24/33], loss:0.0346\n",
            "epoch [25/33], loss:0.0345\n",
            "epoch [26/33], loss:0.0367\n",
            "epoch [27/33], loss:0.0314\n",
            "epoch [28/33], loss:0.0347\n",
            "epoch [29/33], loss:0.0353\n",
            "epoch [30/33], loss:0.0339\n",
            "epoch [31/33], loss:0.0337\n",
            "epoch [32/33], loss:0.0307\n",
            "epoch [33/33], loss:0.0333\n",
            "save model ./ae_9.pth\n",
            "\n",
            "finish traning Model Number 9\n",
            "*****\n",
            "\n"
          ],
          "name": "stdout"
        },
        {
          "output_type": "display_data",
          "data": {
            "image/png": "[encoded data removed]",
            "text/plain": [
              "<Figure size 432x288 with 1 Axes>"
            ]
          },
          "metadata": {
            "tags": [],
            "needs_background": "light"
          }
        },
        {
          "output_type": "stream",
          "text": [
            "94.25% accuracy or 5.75% error rate\n"
          ],
          "name": "stdout"
        }
      ]
    },
    {
      "cell_type": "markdown",
      "metadata": {
        "id": "z8WuduKHmqWo",
        "colab_type": "text"
      },
      "source": [
        "**or used our train model**"
      ]
    },
    {
      "cell_type": "code",
      "metadata": {
        "id": "sYdY_BmznT99",
        "colab_type": "code",
        "colab": {}
      },
      "source": [
        "!git clone https://github.com/aviax1/AE1/\n",
        "!unzip ./AE1/models.zip -d ./\n",
        "!rm -rf ./AE1"
      ],
      "execution_count": null,
      "outputs": []
    },
    {
      "cell_type": "markdown",
      "metadata": {
        "id": "YFXaatHuocKH",
        "colab_type": "text"
      },
      "source": [
        "**finaly test model**"
      ]
    },
    {
      "cell_type": "code",
      "metadata": {
        "id": "Di24IvelKNyU",
        "colab_type": "code",
        "colab": {
          "base_uri": "https://localhost:8080/",
          "height": 298
        },
        "outputId": "9ce4ebdd-e542-4ebb-e213-e6767f4d5feb"
      },
      "source": [
        "_,_,_,_=testmodel()"
      ],
      "execution_count": null,
      "outputs": [
        {
          "output_type": "display_data",
          "data": {
            "image/png": "[encoded data removed]",
            "text/plain": [
              "<Figure size 432x288 with 1 Axes>"
            ]
          },
          "metadata": {
            "tags": [],
            "needs_background": "light"
          }
        },
        {
          "output_type": "stream",
          "text": [
            "98.53% accuracy or 1.47% error rate\n"
          ],
          "name": "stdout"
        }
      ]
    },
    {
      "cell_type": "markdown",
      "metadata": {
        "id": "6YvTKuQcKae2",
        "colab_type": "text"
      },
      "source": [
        "**retrain the model**"
      ]
    },
    {
      "cell_type": "code",
      "metadata": {
        "id": "J-dF1c0OKfig",
        "colab_type": "code",
        "colab": {}
      },
      "source": [
        "traget_error=0.005\n",
        "error = 1\n",
        "while  error > traget_error:\n",
        "  counts,b,fail,total=testmodel()\n",
        "  error = float(fail/total)\n",
        "  if error > traget_error:\n",
        "    train_by_digit(np.argmax(counts),model,30, torch.optim.Adam(model.parameters(), lr=1e-3) )"
      ],
      "execution_count": null,
      "outputs": []
    },
    {
      "cell_type": "markdown",
      "metadata": {
        "id": "wqLThtP6wLbe",
        "colab_type": "text"
      },
      "source": [
        "**kaggle**"
      ]
    },
    {
      "cell_type": "code",
      "metadata": {
        "id": "rxwJitYWwPJQ",
        "colab_type": "code",
        "colab": {}
      },
      "source": [
        "!git clone https://github.com/aviax1/AE1/\n",
        "!unzip ./AE1/kaggle.zip -d ./\n",
        "!rm -rf ./AE1"
      ],
      "execution_count": null,
      "outputs": []
    },
    {
      "cell_type": "code",
      "metadata": {
        "id": "4i1EI5LMwV2t",
        "colab_type": "code",
        "colab": {}
      },
      "source": [
        "inputs_test=pd.read_csv('./test.csv')\n",
        "inputs_test=np.array(inputs_test,dtype=np.float32)\n",
        "inputs_test=inputs_test.reshape(inputs_test.shape[0],28,28)/255\n",
        "y=get_prediction(inputs_test)\n",
        "imageid=1\n",
        "with open('submission.csv', 'w', newline='') as csvfile:\n",
        "  spamwriter = csv.writer(csvfile, delimiter=' ',    quotechar='|', quoting=csv.QUOTE_MINIMAL)\n",
        "  spamwriter.writerow(['ImageId,Label'])\n",
        "  for yi in y:\n",
        "    spamwriter.writerow([str(imageid) +','+str( yi)])\n",
        "    imageid+=1\n",
        "#99.714% accuracy"
      ],
      "execution_count": null,
      "outputs": []
    }
  ]
}